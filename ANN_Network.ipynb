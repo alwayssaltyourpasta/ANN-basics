{
 "cells": [
  {
   "cell_type": "markdown",
   "id": "6392da02-72f2-4b20-83e7-90e1fc23575b",
   "metadata": {},
   "source": [
    "# <center>Bulding ANN Network"
   ]
  },
  {
   "cell_type": "code",
   "execution_count": 1,
   "id": "44dfee67-95f5-42b4-8e47-cca0420237c2",
   "metadata": {},
   "outputs": [],
   "source": [
    "import tensorflow as tf\n",
    "import numpy as np"
   ]
  },
  {
   "cell_type": "markdown",
   "id": "4ffd89e7-75dc-4d95-8da2-4f238a72fab9",
   "metadata": {},
   "source": [
    "## Upload data"
   ]
  },
  {
   "cell_type": "code",
   "execution_count": 2,
   "id": "fa7157fb-8e7f-45e6-b50f-be0bd90e2f90",
   "metadata": {},
   "outputs": [],
   "source": [
    "%store -r X_train\n",
    "%store -r X_test\n",
    "%store -r y_train\n",
    "%store -r y_test"
   ]
  },
  {
   "cell_type": "code",
   "execution_count": 3,
   "id": "df07da9b-94ab-4904-a780-25bd5d8a3988",
   "metadata": {},
   "outputs": [
    {
     "data": {
      "text/plain": [
       "array([[ 1.00150113, -0.57946723, -0.57638802, ...,  0.64920267,\n",
       "         0.97481699,  1.36766974],\n",
       "       [-0.99850112,  1.72572313, -0.57638802, ...,  0.64920267,\n",
       "         0.97481699,  1.6612541 ],\n",
       "       [-0.99850112, -0.57946723,  1.73494238, ...,  0.64920267,\n",
       "        -1.02583358, -0.25280688],\n",
       "       ...,\n",
       "       [ 1.00150113, -0.57946723, -0.57638802, ..., -1.54035103,\n",
       "        -1.02583358, -0.1427649 ],\n",
       "       [ 1.00150113, -0.57946723, -0.57638802, ...,  0.64920267,\n",
       "        -1.02583358, -0.05082558],\n",
       "       [-0.99850112,  1.72572313, -0.57638802, ...,  0.64920267,\n",
       "         0.97481699, -0.81456811]])"
      ]
     },
     "execution_count": 3,
     "metadata": {},
     "output_type": "execute_result"
    }
   ],
   "source": [
    "X_train"
   ]
  },
  {
   "cell_type": "code",
   "execution_count": 4,
   "id": "71e191fa-ed83-4808-95b2-9760d6bbef3d",
   "metadata": {},
   "outputs": [
    {
     "data": {
      "text/plain": [
       "array([[-1.02020406,  1.73668197, -0.56349184, ..., -1.57810057,\n",
       "        -1.0502616 , -0.99096946],\n",
       "       [ 0.98019606, -0.57581067, -0.56349184, ...,  0.63367318,\n",
       "         0.95214374,  0.8293793 ],\n",
       "       [-1.02020406, -0.57581067,  1.77464858, ...,  0.63367318,\n",
       "        -1.0502616 , -0.69904548],\n",
       "       ...,\n",
       "       [ 0.98019606, -0.57581067, -0.56349184, ...,  0.63367318,\n",
       "        -1.0502616 , -1.13742992],\n",
       "       [ 0.98019606, -0.57581067, -0.56349184, ...,  0.63367318,\n",
       "        -1.0502616 , -0.38237688],\n",
       "       [-1.02020406,  1.73668197, -0.56349184, ...,  0.63367318,\n",
       "         0.95214374,  0.15573964]])"
      ]
     },
     "execution_count": 4,
     "metadata": {},
     "output_type": "execute_result"
    }
   ],
   "source": [
    "X_test"
   ]
  },
  {
   "cell_type": "code",
   "execution_count": 5,
   "id": "6d9636e3-09f2-4f1d-966b-935d45205fac",
   "metadata": {},
   "outputs": [
    {
     "data": {
      "text/plain": [
       "array([0, 0, 1, ..., 1, 1, 0])"
      ]
     },
     "execution_count": 5,
     "metadata": {},
     "output_type": "execute_result"
    }
   ],
   "source": [
    "y_train"
   ]
  },
  {
   "cell_type": "code",
   "execution_count": 6,
   "id": "9d4c17a7-8ee9-4aee-8865-5d3a04432b1e",
   "metadata": {},
   "outputs": [
    {
     "data": {
      "text/plain": [
       "array([0, 0, 0, ..., 1, 1, 1])"
      ]
     },
     "execution_count": 6,
     "metadata": {},
     "output_type": "execute_result"
    }
   ],
   "source": [
    "y_test"
   ]
  },
  {
   "cell_type": "markdown",
   "id": "815fc0c0-99b8-49c7-81f2-15cfd0b47214",
   "metadata": {},
   "source": [
    "## ANN Network"
   ]
  },
  {
   "cell_type": "markdown",
   "id": "8deb1691-b914-4718-b01c-5214e5a5d69b",
   "metadata": {},
   "source": [
    "### Initializing Network "
   ]
  },
  {
   "cell_type": "code",
   "execution_count": 7,
   "id": "0f3b995d-0e0a-4e11-a1c9-adb2d48cb4cc",
   "metadata": {},
   "outputs": [],
   "source": [
    "ann = tf.keras.models.Sequential()"
   ]
  },
  {
   "cell_type": "markdown",
   "id": "db4860aa-6d09-4ff3-a407-0d113ae9f006",
   "metadata": {},
   "source": [
    "### Adding the input layer and the first hidden layer"
   ]
  },
  {
   "cell_type": "code",
   "execution_count": 8,
   "id": "bf8111d0-b3c6-4848-bda2-6eef895c3cb9",
   "metadata": {},
   "outputs": [],
   "source": [
    "ann.add(tf.keras.layers.Dense(units=6, activation='relu'))"
   ]
  },
  {
   "cell_type": "markdown",
   "id": "7669de64-4a88-49a1-a9b9-f5b38bb64199",
   "metadata": {},
   "source": [
    "### Adding the second hidden layer"
   ]
  },
  {
   "cell_type": "code",
   "execution_count": 9,
   "id": "0debf8e7-d385-4723-9916-086695e2345a",
   "metadata": {},
   "outputs": [],
   "source": [
    "ann.add(tf.keras.layers.Dense(units=9, activation='relu'))"
   ]
  },
  {
   "cell_type": "markdown",
   "id": "295a4d34-3949-4947-b390-83357ca0456a",
   "metadata": {},
   "source": [
    "### Adding the third hidden layer"
   ]
  },
  {
   "cell_type": "code",
   "execution_count": 10,
   "id": "4e87d74e-0dad-4b00-a45e-9d007f2b2e1f",
   "metadata": {},
   "outputs": [],
   "source": [
    "ann.add(tf.keras.layers.Dense(units=6, activation='relu'))"
   ]
  },
  {
   "cell_type": "markdown",
   "id": "d6f8c265-413b-4dab-85d0-934f18dd5bef",
   "metadata": {},
   "source": [
    "### Adding the output layer"
   ]
  },
  {
   "cell_type": "code",
   "execution_count": 11,
   "id": "5cfd9918-7ddb-4f05-a156-fcc82e4f2a1d",
   "metadata": {},
   "outputs": [],
   "source": [
    "ann.add(tf.keras.layers.Dense(units=1, activation='sigmoid'))"
   ]
  },
  {
   "cell_type": "markdown",
   "id": "193c2456-215d-4543-b4b6-06e92ba0ee6a",
   "metadata": {},
   "source": [
    "## Training the ANN Network"
   ]
  },
  {
   "cell_type": "markdown",
   "id": "44221a17-57b2-4b69-9ec2-a9fdde21ab04",
   "metadata": {},
   "source": [
    "### Compiling the ANN"
   ]
  },
  {
   "cell_type": "code",
   "execution_count": 14,
   "id": "94ac3e81-7969-4343-bef1-150cccae4976",
   "metadata": {},
   "outputs": [],
   "source": [
    "ann.compile(optimizer='adam', loss='binary_crossentropy', metrics=['binary_accuracy'])"
   ]
  },
  {
   "cell_type": "markdown",
   "id": "a7e96fd5-1c99-434f-b1d1-46c5e25226da",
   "metadata": {},
   "source": [
    "### Training the ANN on the Training set"
   ]
  },
  {
   "cell_type": "code",
   "execution_count": 15,
   "id": "1b49ffa9-6a3a-430e-9c48-6a21f470d05d",
   "metadata": {
    "collapsed": true,
    "jupyter": {
     "outputs_hidden": true
    },
    "tags": []
   },
   "outputs": [
    {
     "name": "stdout",
     "output_type": "stream",
     "text": [
      "Epoch 1/100\n",
      "250/250 [==============================] - 0s 373us/step - loss: 0.5215 - binary_accuracy: 0.7945\n",
      "Epoch 2/100\n",
      "250/250 [==============================] - 0s 348us/step - loss: 0.4651 - binary_accuracy: 0.7945\n",
      "Epoch 3/100\n",
      "250/250 [==============================] - 0s 350us/step - loss: 0.4419 - binary_accuracy: 0.7945\n",
      "Epoch 4/100\n",
      "250/250 [==============================] - 0s 347us/step - loss: 0.4269 - binary_accuracy: 0.7945\n",
      "Epoch 5/100\n",
      "250/250 [==============================] - 0s 348us/step - loss: 0.4156 - binary_accuracy: 0.7970\n",
      "Epoch 6/100\n",
      "250/250 [==============================] - 0s 347us/step - loss: 0.4063 - binary_accuracy: 0.8146\n",
      "Epoch 7/100\n",
      "250/250 [==============================] - 0s 347us/step - loss: 0.3953 - binary_accuracy: 0.8251\n",
      "Epoch 8/100\n",
      "250/250 [==============================] - 0s 343us/step - loss: 0.3831 - binary_accuracy: 0.8397\n",
      "Epoch 9/100\n",
      "250/250 [==============================] - 0s 344us/step - loss: 0.3731 - binary_accuracy: 0.8497\n",
      "Epoch 10/100\n",
      "250/250 [==============================] - 0s 344us/step - loss: 0.3655 - binary_accuracy: 0.8565\n",
      "Epoch 11/100\n",
      "250/250 [==============================] - 0s 344us/step - loss: 0.3606 - binary_accuracy: 0.8583\n",
      "Epoch 12/100\n",
      "250/250 [==============================] - 0s 345us/step - loss: 0.3566 - binary_accuracy: 0.8591\n",
      "Epoch 13/100\n",
      "250/250 [==============================] - 0s 353us/step - loss: 0.3536 - binary_accuracy: 0.8616\n",
      "Epoch 14/100\n",
      "250/250 [==============================] - 0s 347us/step - loss: 0.3517 - binary_accuracy: 0.8620\n",
      "Epoch 15/100\n",
      "250/250 [==============================] - 0s 347us/step - loss: 0.3501 - binary_accuracy: 0.8616\n",
      "Epoch 16/100\n",
      "250/250 [==============================] - 0s 343us/step - loss: 0.3484 - binary_accuracy: 0.8644\n",
      "Epoch 17/100\n",
      "250/250 [==============================] - 0s 346us/step - loss: 0.3466 - binary_accuracy: 0.8662\n",
      "Epoch 18/100\n",
      "250/250 [==============================] - 0s 346us/step - loss: 0.3455 - binary_accuracy: 0.8637\n",
      "Epoch 19/100\n",
      "250/250 [==============================] - 0s 347us/step - loss: 0.3449 - binary_accuracy: 0.8651\n",
      "Epoch 20/100\n",
      "250/250 [==============================] - 0s 344us/step - loss: 0.3440 - binary_accuracy: 0.8634\n",
      "Epoch 21/100\n",
      "250/250 [==============================] - 0s 346us/step - loss: 0.3425 - binary_accuracy: 0.8656\n",
      "Epoch 22/100\n",
      "250/250 [==============================] - 0s 348us/step - loss: 0.3425 - binary_accuracy: 0.8662\n",
      "Epoch 23/100\n",
      "250/250 [==============================] - 0s 345us/step - loss: 0.3411 - binary_accuracy: 0.8655\n",
      "Epoch 24/100\n",
      "250/250 [==============================] - 0s 346us/step - loss: 0.3406 - binary_accuracy: 0.8666\n",
      "Epoch 25/100\n",
      "250/250 [==============================] - 0s 347us/step - loss: 0.3402 - binary_accuracy: 0.8650\n",
      "Epoch 26/100\n",
      "250/250 [==============================] - 0s 348us/step - loss: 0.3392 - binary_accuracy: 0.8644\n",
      "Epoch 27/100\n",
      "250/250 [==============================] - 0s 349us/step - loss: 0.3394 - binary_accuracy: 0.8651\n",
      "Epoch 28/100\n",
      "250/250 [==============================] - 0s 348us/step - loss: 0.3390 - binary_accuracy: 0.8656\n",
      "Epoch 29/100\n",
      "250/250 [==============================] - 0s 349us/step - loss: 0.3378 - binary_accuracy: 0.8645\n",
      "Epoch 30/100\n",
      "250/250 [==============================] - 0s 348us/step - loss: 0.3375 - binary_accuracy: 0.8651\n",
      "Epoch 31/100\n",
      "250/250 [==============================] - 0s 346us/step - loss: 0.3361 - binary_accuracy: 0.8660\n",
      "Epoch 32/100\n",
      "250/250 [==============================] - 0s 347us/step - loss: 0.3356 - binary_accuracy: 0.8661\n",
      "Epoch 33/100\n",
      "250/250 [==============================] - 0s 350us/step - loss: 0.3354 - binary_accuracy: 0.8655\n",
      "Epoch 34/100\n",
      "250/250 [==============================] - 0s 352us/step - loss: 0.3349 - binary_accuracy: 0.8668\n",
      "Epoch 35/100\n",
      "250/250 [==============================] - 0s 345us/step - loss: 0.3339 - binary_accuracy: 0.8664\n",
      "Epoch 36/100\n",
      "250/250 [==============================] - 0s 347us/step - loss: 0.3330 - binary_accuracy: 0.8660\n",
      "Epoch 37/100\n",
      "250/250 [==============================] - 0s 346us/step - loss: 0.3329 - binary_accuracy: 0.8659\n",
      "Epoch 38/100\n",
      "250/250 [==============================] - 0s 404us/step - loss: 0.3326 - binary_accuracy: 0.8665\n",
      "Epoch 39/100\n",
      "250/250 [==============================] - 0s 363us/step - loss: 0.3317 - binary_accuracy: 0.8656\n",
      "Epoch 40/100\n",
      "250/250 [==============================] - 0s 356us/step - loss: 0.3323 - binary_accuracy: 0.8650\n",
      "Epoch 41/100\n",
      "250/250 [==============================] - 0s 356us/step - loss: 0.3317 - binary_accuracy: 0.8664\n",
      "Epoch 42/100\n",
      "250/250 [==============================] - 0s 341us/step - loss: 0.3307 - binary_accuracy: 0.8661\n",
      "Epoch 43/100\n",
      "250/250 [==============================] - 0s 346us/step - loss: 0.3305 - binary_accuracy: 0.8676\n",
      "Epoch 44/100\n",
      "250/250 [==============================] - 0s 341us/step - loss: 0.3303 - binary_accuracy: 0.8664\n",
      "Epoch 45/100\n",
      "250/250 [==============================] - 0s 341us/step - loss: 0.3308 - binary_accuracy: 0.8675\n",
      "Epoch 46/100\n",
      "250/250 [==============================] - 0s 341us/step - loss: 0.3299 - binary_accuracy: 0.8645\n",
      "Epoch 47/100\n",
      "250/250 [==============================] - 0s 342us/step - loss: 0.3292 - binary_accuracy: 0.8680\n",
      "Epoch 48/100\n",
      "250/250 [==============================] - 0s 341us/step - loss: 0.3292 - binary_accuracy: 0.8668\n",
      "Epoch 49/100\n",
      "250/250 [==============================] - 0s 341us/step - loss: 0.3289 - binary_accuracy: 0.8651\n",
      "Epoch 50/100\n",
      "250/250 [==============================] - 0s 345us/step - loss: 0.3286 - binary_accuracy: 0.8668\n",
      "Epoch 51/100\n",
      "250/250 [==============================] - 0s 355us/step - loss: 0.3286 - binary_accuracy: 0.8677\n",
      "Epoch 52/100\n",
      "250/250 [==============================] - 0s 346us/step - loss: 0.3281 - binary_accuracy: 0.8669\n",
      "Epoch 53/100\n",
      "250/250 [==============================] - 0s 340us/step - loss: 0.3285 - binary_accuracy: 0.8670\n",
      "Epoch 54/100\n",
      "250/250 [==============================] - 0s 339us/step - loss: 0.3284 - binary_accuracy: 0.8655\n",
      "Epoch 55/100\n",
      "250/250 [==============================] - 0s 340us/step - loss: 0.3283 - binary_accuracy: 0.8674\n",
      "Epoch 56/100\n",
      "250/250 [==============================] - 0s 360us/step - loss: 0.3276 - binary_accuracy: 0.8677\n",
      "Epoch 57/100\n",
      "250/250 [==============================] - 0s 351us/step - loss: 0.3278 - binary_accuracy: 0.8660\n",
      "Epoch 58/100\n",
      "250/250 [==============================] - 0s 345us/step - loss: 0.3279 - binary_accuracy: 0.8668\n",
      "Epoch 59/100\n",
      "250/250 [==============================] - 0s 346us/step - loss: 0.3271 - binary_accuracy: 0.8670\n",
      "Epoch 60/100\n",
      "250/250 [==============================] - 0s 345us/step - loss: 0.3270 - binary_accuracy: 0.8677\n",
      "Epoch 61/100\n",
      "250/250 [==============================] - 0s 339us/step - loss: 0.3272 - binary_accuracy: 0.8675\n",
      "Epoch 62/100\n",
      "250/250 [==============================] - 0s 339us/step - loss: 0.3269 - binary_accuracy: 0.8665\n",
      "Epoch 63/100\n",
      "250/250 [==============================] - 0s 340us/step - loss: 0.3275 - binary_accuracy: 0.8656\n",
      "Epoch 64/100\n",
      "250/250 [==============================] - 0s 339us/step - loss: 0.3269 - binary_accuracy: 0.8666\n",
      "Epoch 65/100\n",
      "250/250 [==============================] - 0s 350us/step - loss: 0.3261 - binary_accuracy: 0.8675\n",
      "Epoch 66/100\n",
      "250/250 [==============================] - 0s 341us/step - loss: 0.3267 - binary_accuracy: 0.8676\n",
      "Epoch 67/100\n",
      "250/250 [==============================] - 0s 345us/step - loss: 0.3262 - binary_accuracy: 0.8666\n",
      "Epoch 68/100\n",
      "250/250 [==============================] - 0s 343us/step - loss: 0.3266 - binary_accuracy: 0.8668\n",
      "Epoch 69/100\n",
      "250/250 [==============================] - 0s 342us/step - loss: 0.3262 - binary_accuracy: 0.8670\n",
      "Epoch 70/100\n",
      "250/250 [==============================] - 0s 347us/step - loss: 0.3254 - binary_accuracy: 0.8681\n",
      "Epoch 71/100\n",
      "250/250 [==============================] - 0s 340us/step - loss: 0.3257 - binary_accuracy: 0.8671\n",
      "Epoch 72/100\n",
      "250/250 [==============================] - 0s 341us/step - loss: 0.3259 - binary_accuracy: 0.8674\n",
      "Epoch 73/100\n",
      "250/250 [==============================] - 0s 342us/step - loss: 0.3256 - binary_accuracy: 0.8679\n",
      "Epoch 74/100\n",
      "250/250 [==============================] - 0s 341us/step - loss: 0.3252 - binary_accuracy: 0.8676\n",
      "Epoch 75/100\n",
      "250/250 [==============================] - 0s 339us/step - loss: 0.3252 - binary_accuracy: 0.8677\n",
      "Epoch 76/100\n",
      "250/250 [==============================] - 0s 337us/step - loss: 0.3254 - binary_accuracy: 0.8664\n",
      "Epoch 77/100\n",
      "250/250 [==============================] - 0s 338us/step - loss: 0.3250 - binary_accuracy: 0.8668\n",
      "Epoch 78/100\n",
      "250/250 [==============================] - 0s 339us/step - loss: 0.3251 - binary_accuracy: 0.8691\n",
      "Epoch 79/100\n",
      "250/250 [==============================] - 0s 339us/step - loss: 0.3254 - binary_accuracy: 0.8665\n",
      "Epoch 80/100\n",
      "250/250 [==============================] - 0s 338us/step - loss: 0.3251 - binary_accuracy: 0.8679\n",
      "Epoch 81/100\n",
      "250/250 [==============================] - 0s 340us/step - loss: 0.3247 - binary_accuracy: 0.8694\n",
      "Epoch 82/100\n",
      "250/250 [==============================] - 0s 339us/step - loss: 0.3240 - binary_accuracy: 0.8681\n",
      "Epoch 83/100\n",
      "250/250 [==============================] - 0s 339us/step - loss: 0.3239 - binary_accuracy: 0.8680\n",
      "Epoch 84/100\n",
      "250/250 [==============================] - 0s 338us/step - loss: 0.3245 - binary_accuracy: 0.8691\n",
      "Epoch 85/100\n",
      "250/250 [==============================] - 0s 338us/step - loss: 0.3251 - binary_accuracy: 0.8676\n",
      "Epoch 86/100\n",
      "250/250 [==============================] - 0s 340us/step - loss: 0.3239 - binary_accuracy: 0.8686\n",
      "Epoch 87/100\n",
      "250/250 [==============================] - 0s 341us/step - loss: 0.3247 - binary_accuracy: 0.8684\n",
      "Epoch 88/100\n",
      "250/250 [==============================] - 0s 338us/step - loss: 0.3242 - binary_accuracy: 0.8671\n",
      "Epoch 89/100\n",
      "250/250 [==============================] - 0s 340us/step - loss: 0.3238 - binary_accuracy: 0.8685\n",
      "Epoch 90/100\n",
      "250/250 [==============================] - 0s 345us/step - loss: 0.3232 - binary_accuracy: 0.8677\n",
      "Epoch 91/100\n",
      "250/250 [==============================] - 0s 356us/step - loss: 0.3238 - binary_accuracy: 0.8674\n",
      "Epoch 92/100\n",
      "250/250 [==============================] - 0s 351us/step - loss: 0.3237 - binary_accuracy: 0.8670\n",
      "Epoch 93/100\n",
      "250/250 [==============================] - 0s 350us/step - loss: 0.3236 - binary_accuracy: 0.8689\n",
      "Epoch 94/100\n",
      "250/250 [==============================] - 0s 343us/step - loss: 0.3237 - binary_accuracy: 0.8662\n",
      "Epoch 95/100\n",
      "250/250 [==============================] - 0s 351us/step - loss: 0.3242 - binary_accuracy: 0.8695\n",
      "Epoch 96/100\n",
      "250/250 [==============================] - 0s 349us/step - loss: 0.3232 - binary_accuracy: 0.8670\n",
      "Epoch 97/100\n",
      "250/250 [==============================] - 0s 383us/step - loss: 0.3237 - binary_accuracy: 0.8670\n",
      "Epoch 98/100\n",
      "250/250 [==============================] - 0s 345us/step - loss: 0.3234 - binary_accuracy: 0.8687\n",
      "Epoch 99/100\n",
      "250/250 [==============================] - 0s 347us/step - loss: 0.3235 - binary_accuracy: 0.8661\n",
      "Epoch 100/100\n",
      "250/250 [==============================] - 0s 376us/step - loss: 0.3231 - binary_accuracy: 0.8683\n"
     ]
    },
    {
     "data": {
      "text/plain": [
       "<keras.callbacks.History at 0x1779cf0a0>"
      ]
     },
     "execution_count": 15,
     "metadata": {},
     "output_type": "execute_result"
    }
   ],
   "source": [
    "ann.fit(X_train, y_train, batch_size=32, epochs=100)"
   ]
  },
  {
   "cell_type": "markdown",
   "id": "81e29e44-c5c7-48c8-8111-dcdfce7e3857",
   "metadata": {},
   "source": [
    "## Predicting using ANN Network"
   ]
  },
  {
   "cell_type": "code",
   "execution_count": 16,
   "id": "2184ba03-cecc-4a88-b67d-417c1577685a",
   "metadata": {},
   "outputs": [
    {
     "name": "stdout",
     "output_type": "stream",
     "text": [
      "63/63 [==============================] - 0s 318us/step\n"
     ]
    },
    {
     "data": {
      "text/plain": [
       "array([[0.04582198],\n",
       "       [0.01223273],\n",
       "       [0.12537825],\n",
       "       ...,\n",
       "       [0.7144981 ],\n",
       "       [0.17507209],\n",
       "       [0.3619939 ]], dtype=float32)"
      ]
     },
     "execution_count": 16,
     "metadata": {},
     "output_type": "execute_result"
    }
   ],
   "source": [
    "y_pred = ann.predict(X_test)\n",
    "y_pred"
   ]
  },
  {
   "cell_type": "code",
   "execution_count": 17,
   "id": "3f1e501a-4d22-4f42-9b72-6e6111c1898f",
   "metadata": {},
   "outputs": [
    {
     "data": {
      "text/plain": [
       "array([[False],\n",
       "       [False],\n",
       "       [False],\n",
       "       ...,\n",
       "       [ True],\n",
       "       [False],\n",
       "       [False]])"
      ]
     },
     "execution_count": 17,
     "metadata": {},
     "output_type": "execute_result"
    }
   ],
   "source": [
    "y_pred = y_pred > 0.5\n",
    "y_pred"
   ]
  },
  {
   "cell_type": "code",
   "execution_count": 18,
   "id": "cd708edf-df05-40d8-b931-7d10563c942c",
   "metadata": {},
   "outputs": [
    {
     "data": {
      "text/plain": [
       "array([[1546,   61],\n",
       "       [ 202,  191]])"
      ]
     },
     "execution_count": 18,
     "metadata": {},
     "output_type": "execute_result"
    }
   ],
   "source": [
    "from sklearn.metrics import confusion_matrix, classification_report\n",
    "cm = confusion_matrix(y_test, y_pred)\n",
    "cm"
   ]
  },
  {
   "cell_type": "code",
   "execution_count": 19,
   "id": "29b10bb3-0b49-4db6-9678-4db1b64ba12d",
   "metadata": {},
   "outputs": [
    {
     "data": {
      "text/plain": [
       "<AxesSubplot: >"
      ]
     },
     "execution_count": 19,
     "metadata": {},
     "output_type": "execute_result"
    },
    {
     "data": {
      "image/png": "[encoded data removed]",
      "text/plain": [
       "<Figure size 640x480 with 2 Axes>"
      ]
     },
     "metadata": {},
     "output_type": "display_data"
    }
   ],
   "source": [
    "import seaborn as sns\n",
    "sns.heatmap(cm, annot=True)"
   ]
  },
  {
   "cell_type": "code",
   "execution_count": 20,
   "id": "ba233e3b-74c9-4f0a-a713-734c3d24d462",
   "metadata": {},
   "outputs": [
    {
     "data": {
      "text/plain": [
       "<AxesSubplot: >"
      ]
     },
     "execution_count": 20,
     "metadata": {},
     "output_type": "execute_result"
    },
    {
     "data": {
      "image/png": "[encoded data removed]",
      "text/plain": [
       "<Figure size 640x480 with 2 Axes>"
      ]
     },
     "metadata": {},
     "output_type": "display_data"
    }
   ],
   "source": [
    "sns.heatmap(cm/np.sum(cm), annot=True, \n",
    "            fmt='.2%', cmap='Blues')"
   ]
  },
  {
   "cell_type": "code",
   "execution_count": 21,
   "id": "3a02cc09-f44b-4f97-a8b3-95fcc2070077",
   "metadata": {},
   "outputs": [
    {
     "name": "stdout",
     "output_type": "stream",
     "text": [
      "              precision    recall  f1-score   support\n",
      "\n",
      "        stay       0.88      0.96      0.92      1607\n",
      "       leave       0.76      0.49      0.59       393\n",
      "\n",
      "    accuracy                           0.87      2000\n",
      "   macro avg       0.82      0.72      0.76      2000\n",
      "weighted avg       0.86      0.87      0.86      2000\n",
      "\n"
     ]
    }
   ],
   "source": [
    "print(classification_report(y_test, y_pred, target_names=['stay', 'leave']))"
   ]
  },
  {
   "cell_type": "code",
   "execution_count": null,
   "id": "02aed2d0-c7cc-43ba-a996-49b98194937e",
   "metadata": {},
   "outputs": [],
   "source": []
  }
 ],
 "metadata": {
  "kernelspec": {
   "display_name": "Python 3 (ipykernel)",
   "language": "python",
   "name": "python3"
  },
  "language_info": {
   "codemirror_mode": {
    "name": "ipython",
    "version": 3
   },
   "file_extension": ".py",
   "mimetype": "text/x-python",
   "name": "python",
   "nbconvert_exporter": "python",
   "pygments_lexer": "ipython3",
   "version": "3.10.9"
  }
 },
 "nbformat": 4,
 "nbformat_minor": 5
}
